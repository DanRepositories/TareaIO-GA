{
  "nbformat": 4,
  "nbformat_minor": 0,
  "metadata": {
    "colab": {
      "name": "TareaIO.ipynb",
      "provenance": [],
      "authorship_tag": "ABX9TyPaiDgqHQwm9lcKeEG2bkt9",
      "include_colab_link": true
    },
    "kernelspec": {
      "name": "python3",
      "display_name": "Python 3"
    },
    "language_info": {
      "name": "python"
    }
  },
  "cells": [
    {
      "cell_type": "markdown",
      "metadata": {
        "id": "view-in-github",
        "colab_type": "text"
      },
      "source": [
        "<a href=\"https://colab.research.google.com/github/DanRepositories/TareaIO-GA/blob/main/TareaIO.ipynb\" target=\"_parent\"><img src=\"https://colab.research.google.com/assets/colab-badge.svg\" alt=\"Open In Colab\"/></a>"
      ]
    },
    {
      "cell_type": "markdown",
      "metadata": {
        "id": "0gxMHdmyiNcr"
      },
      "source": [
        "# Carga del archivo de la instancia"
      ]
    },
    {
      "cell_type": "code",
      "metadata": {
        "colab": {
          "resources": {
            "http://localhost:8080/nbextensions/google.colab/files.js": {
              "data": "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",
              "ok": true,
              "headers": [
                [
                  "content-type",
                  "application/javascript"
                ]
              ],
              "status": 200,
              "status_text": "OK"
            }
          },
          "base_uri": "https://localhost:8080/",
          "height": 75
        },
        "id": "Y8W0Up_UiM26",
        "outputId": "f7e3b9a9-e2a2-48a8-8c3c-97e11a196dfa"
      },
      "source": [
        "from google.colab import files\n",
        "instance_file_name = 'QAP_sko56_04_n'\n",
        "upload = files.upload()"
      ],
      "execution_count": 8,
      "outputs": [
        {
          "output_type": "display_data",
          "data": {
            "text/html": [
              "\n",
              "     <input type=\"file\" id=\"files-d70b1ac5-7fec-4a7e-915a-79f74b98e207\" name=\"files[]\" multiple disabled\n",
              "        style=\"border:none\" />\n",
              "     <output id=\"result-d70b1ac5-7fec-4a7e-915a-79f74b98e207\">\n",
              "      Upload widget is only available when the cell has been executed in the\n",
              "      current browser session. Please rerun this cell to enable.\n",
              "      </output>\n",
              "      <script src=\"/nbextensions/google.colab/files.js\"></script> "
            ],
            "text/plain": [
              "<IPython.core.display.HTML object>"
            ]
          },
          "metadata": {}
        },
        {
          "output_type": "stream",
          "name": "stdout",
          "text": [
            "Saving QAP_sko56_04_n to QAP_sko56_04_n\n"
          ]
        }
      ]
    },
    {
      "cell_type": "markdown",
      "metadata": {
        "id": "K0ZRXRuMd9mi"
      },
      "source": [
        "# Instancia del problema"
      ]
    },
    {
      "cell_type": "markdown",
      "metadata": {
        "id": "RStqC8aL15VZ"
      },
      "source": [
        "## Importación de las librerias utilizadas"
      ]
    },
    {
      "cell_type": "code",
      "metadata": {
        "id": "kZ18iuYB13Gz"
      },
      "source": [
        "import random\n",
        "import numpy as np"
      ],
      "execution_count": 31,
      "outputs": []
    },
    {
      "cell_type": "markdown",
      "metadata": {
        "id": "4ADbfUtY0mdU"
      },
      "source": [
        "## Lectura de la instancia"
      ]
    },
    {
      "cell_type": "code",
      "metadata": {
        "id": "mClJMKaWoZ94"
      },
      "source": [
        "def get_int_list(line):\n",
        "  '''\n",
        "  Recibe una cadena que contiene numeros enteros separados por \",\"\n",
        "  retorna una lista con los elementos transformados a enteros.\n",
        "  '''\n",
        "  item_list = line.split(',')\n",
        "  int_list = list(map(lambda item: int(item), item_list))\n",
        "  return int_list"
      ],
      "execution_count": 32,
      "outputs": []
    },
    {
      "cell_type": "code",
      "metadata": {
        "id": "TRmklvd5izvE"
      },
      "source": [
        "def read_instance(filename):\n",
        "  with open(filename, 'r') as file:\n",
        "    # Se lee la cantidad de tiendas\n",
        "    n = int(file.readline())\n",
        "\n",
        "    # Se leen los largos de cada tienda\n",
        "    lengths_shops = get_int_list(file.readline())\n",
        "\n",
        "    # Se leen la matriz de los clientes que visitan cada tienda\n",
        "    matrix_clients = []\n",
        "    for i in range(n):\n",
        "      clients = get_int_list(file.readline())\n",
        "      matrix_clients.append(clients)\n",
        "\n",
        "  return n, lengths_shops, matrix_clients"
      ],
      "execution_count": 33,
      "outputs": []
    },
    {
      "cell_type": "code",
      "metadata": {
        "id": "A2EJ2QN4k0eK"
      },
      "source": [
        "n, lengths_shops, matrix_clients = read_instance(instance_file_name)\n",
        "\n",
        "# Constante usada en el programa para crear y manipular los individuos\n",
        "n_genes = n"
      ],
      "execution_count": 34,
      "outputs": []
    },
    {
      "cell_type": "markdown",
      "metadata": {
        "id": "5CMTN0tpeYKn"
      },
      "source": [
        "## Funciones auxiliares"
      ]
    },
    {
      "cell_type": "code",
      "metadata": {
        "id": "FwZbKhg2eoc4"
      },
      "source": [
        "def create_individual(n_genes):\n",
        "  return random.sample(range(n_genes), n_genes)"
      ],
      "execution_count": 35,
      "outputs": []
    },
    {
      "cell_type": "code",
      "metadata": {
        "id": "b-7zbfClepHV"
      },
      "source": [
        "def create_population(n_genes, cant_individuals):\n",
        "  return np.array([create_individual(n_genes) for i in range(cant_individuals)])"
      ],
      "execution_count": 36,
      "outputs": []
    },
    {
      "cell_type": "code",
      "metadata": {
        "id": "Q4dHcKVieI4a"
      },
      "source": [
        "def calc_fitness_population(population):\n",
        "  fitness = [calc_fitness(individual) for individual in population]\n",
        "  return fitness"
      ],
      "execution_count": 37,
      "outputs": []
    },
    {
      "cell_type": "code",
      "metadata": {
        "id": "WbTIybs2eagS"
      },
      "source": [
        "def get_best(population, fitness):\n",
        "  best = population[0]\n",
        "  F_min = fitness[0]\n",
        "  length = len(population)\n",
        "\n",
        "  for index in range(1, length):\n",
        "    \n",
        "    if fitness[index] < F_min:\n",
        "      best = population[index]\n",
        "      F_min = fitness[index]\n",
        "\n",
        "  return best, F_min"
      ],
      "execution_count": 38,
      "outputs": []
    },
    {
      "cell_type": "markdown",
      "metadata": {
        "id": "T1oeTaZHeCoG"
      },
      "source": [
        "## Funcion Objetivo"
      ]
    },
    {
      "cell_type": "code",
      "metadata": {
        "id": "dPM9B9oXlijl"
      },
      "source": [
        "def get_distance(shop_i, shop_j):\n",
        "  global lengths_shops\n",
        "  half_start_shop = lengths_shops[shop_i] / 2\n",
        "  half_final_shop = lengths_shops[shop_j] / 2\n",
        "\n",
        "  distance_between_shops = sum(lengths_shops[shop_i + 1: shop_j])\n",
        "\n",
        "  distance = half_start_shop + distance_between_shops + half_final_shop\n",
        "  return distance"
      ],
      "execution_count": 39,
      "outputs": []
    },
    {
      "cell_type": "code",
      "metadata": {
        "id": "6zS5zOZceBsM"
      },
      "source": [
        "def calc_fitness(solution):\n",
        "  global matrix_clients\n",
        "\n",
        "  total_effort = 0\n",
        "  for i in range(n - 1):\n",
        "    for j in range(i + 1, n):\n",
        "      x_i, x_j = solution[i], solution[j]\n",
        "      current_effort = get_distance(x_i, x_j) * matrix_clients[x_i][x_j]\n",
        "      total_effort += current_effort\n",
        "\n",
        "  return total_effort"
      ],
      "execution_count": 40,
      "outputs": []
    },
    {
      "cell_type": "markdown",
      "metadata": {
        "id": "wh2E0KDNc7F6"
      },
      "source": [
        "# Algoritmo Genético"
      ]
    },
    {
      "cell_type": "markdown",
      "metadata": {
        "id": "zK3X2RGMc-ej"
      },
      "source": [
        "## Definición de las operaciones geneticas\n"
      ]
    },
    {
      "cell_type": "markdown",
      "metadata": {
        "id": "3h84MdhndGEp"
      },
      "source": [
        "### Operador de selección"
      ]
    },
    {
      "cell_type": "code",
      "metadata": {
        "id": "fh7a1ttzdY90"
      },
      "source": [
        "def get_min_index(fitness, index_participants):\n",
        "  index_min = index_participants[0]\n",
        "  min = fitness[index_participants[0]]\n",
        "\n",
        "  for index in index_participants:\n",
        "    if fitness[index] < min:\n",
        "      index_min = index\n",
        "      min = fitness[index]\n",
        "\n",
        "  return index_min"
      ],
      "execution_count": 41,
      "outputs": []
    },
    {
      "cell_type": "code",
      "metadata": {
        "id": "6NfKz7lKctmj"
      },
      "source": [
        "def select(population, fitness, k, n_individuals):\n",
        "  winners = []\n",
        "\n",
        "  for i in range(n_individuals):\n",
        "    index_participants = random.sample(range(n_individuals), k)\n",
        "    \n",
        "    winner_index = get_min_index(fitness, index_participants)\n",
        "    winners.append(population[winner_index])\n",
        "\n",
        "  return winners"
      ],
      "execution_count": 42,
      "outputs": []
    },
    {
      "cell_type": "markdown",
      "metadata": {
        "id": "UiIzomtDdIat"
      },
      "source": [
        "### Operador de cruce"
      ]
    },
    {
      "cell_type": "code",
      "metadata": {
        "id": "AuabSkAvdKLU"
      },
      "source": [
        "def copy_genes(individual_origin, individual_destiny, initial, quantity):\n",
        "  index = initial\n",
        "  while quantity > 0:\n",
        "    individual_destiny[index] = individual_origin[index]\n",
        "\n",
        "    index = (index + 1) % n_genes\n",
        "    quantity -= 1\n",
        "\n",
        "  return individual_destiny"
      ],
      "execution_count": 43,
      "outputs": []
    },
    {
      "cell_type": "code",
      "metadata": {
        "id": "cFfu5IDXdfrP"
      },
      "source": [
        "def make_childrens(father_1, father_2):\n",
        "  # Se los hijos sin genes todavia\n",
        "  children_1 = [-1] * n_genes\n",
        "  children_2 = [-1] * n_genes\n",
        "\n",
        "  # Cantidad de genes que van a ser heredados a los hijos\n",
        "  cant_genes_inherited = 4\n",
        "\n",
        "  # Se selecciona un indice inicial al azar, del cual se empezara a copiar los genes\n",
        "  initial_index = random.randint(0, n_genes - 1)\n",
        "\n",
        "  # Se copian los genes heredados\n",
        "  children_1 = copy_genes(father_1, children_1, initial_index, cant_genes_inherited)\n",
        "  children_2 = copy_genes(father_2, children_2, initial_index, cant_genes_inherited)\n",
        "\n",
        "  # Se inicializan los indices\n",
        "  index = (initial_index + cant_genes_inherited) % n_genes\n",
        "  index_children_1 = index\n",
        "  index_children_2 = index\n",
        "\n",
        "  # Mientras no se de la vuelta completa a los padres, se van copiando genes\n",
        "  while True:\n",
        "\n",
        "    # Si el gen actual del padre no esta en el hijo, se copia\n",
        "    if father_1[index] not in children_2:\n",
        "      children_2[index_children_2] = father_1[index]\n",
        "      index_children_2 = (index_children_2 + 1) % n_genes\n",
        "\n",
        "    if father_2[index] not in children_1:\n",
        "      children_1[index_children_1] = father_2[index]\n",
        "      index_children_1 = (index_children_1 + 1) % n_genes\n",
        "\n",
        "    index = (index + 1) % n_genes\n",
        "\n",
        "    if index == ((initial_index + cant_genes_inherited) % n_genes):\n",
        "      break\n",
        "\n",
        "  return children_1, children_2"
      ],
      "execution_count": 44,
      "outputs": []
    },
    {
      "cell_type": "code",
      "metadata": {
        "id": "ReI4L2x5dqCi"
      },
      "source": [
        "def crossing(population, n_individuals, p_cross):\n",
        "  for i in range(1, n_individuals, 2):\n",
        "    rand = random.random()\n",
        "\n",
        "    if rand < p_cross:\n",
        "      population[i - 1], population[i] = make_childrens(population[i - 1], population[i])\n",
        "\n",
        "  return population"
      ],
      "execution_count": 45,
      "outputs": []
    },
    {
      "cell_type": "markdown",
      "metadata": {
        "id": "Ge8TXd0WdKoe"
      },
      "source": [
        "### Operador de mutación"
      ]
    },
    {
      "cell_type": "code",
      "metadata": {
        "id": "iDWNXdgNdPhz"
      },
      "source": [
        "def make_mutation(individual):\n",
        "  indexes = random.sample(range(n_genes), 2)\n",
        "  \n",
        "  individual[indexes[0]], individual[indexes[1]] = individual[indexes[1]], individual[indexes[0]]\n",
        "\n",
        "  return individual"
      ],
      "execution_count": 46,
      "outputs": []
    },
    {
      "cell_type": "code",
      "metadata": {
        "id": "39Rqw59ydsvf"
      },
      "source": [
        "def mutate(population, n_individuals, p_mutate):\n",
        "  for i in range(n_individuals):\n",
        "    rand = random.random()\n",
        "\n",
        "    if rand < p_mutate:\n",
        "      population[i] = make_mutation(population[i])\n",
        "\n",
        "  return population"
      ],
      "execution_count": 47,
      "outputs": []
    },
    {
      "cell_type": "markdown",
      "metadata": {
        "id": "Aay2j1bedQ5S"
      },
      "source": [
        "## Definición del algoritmo\n"
      ]
    },
    {
      "cell_type": "code",
      "metadata": {
        "id": "1k7WfEqmdVpV"
      },
      "source": [
        "def run_genetic_algorithm(n_individuals, n_generations, p_cross, p_mutate):\n",
        "  population = create_population(n, n_individuals)\n",
        "  fitness = calc_fitness_population(population)\n",
        "\n",
        "  best, min_fitness = get_best(population, fitness)\n",
        "\n",
        "  for i in range(n_generations):\n",
        "    population = select(population, fitness, 3, n_individuals)\n",
        "    \n",
        "    population = crossing(population, n_individuals, p_cross)\n",
        "    \n",
        "    population = mutate(population, n_individuals, p_mutate)\n",
        "\n",
        "    fitness = calc_fitness_population(population)\n",
        "\n",
        "    current_best, current_min_fitness = get_best(population, fitness)\n",
        "\n",
        "    if current_min_fitness < min_fitness:\n",
        "      best = current_best\n",
        "      min_fitness = current_min_fitness\n",
        "\n",
        "  return best, min_fitness"
      ],
      "execution_count": 48,
      "outputs": []
    },
    {
      "cell_type": "markdown",
      "metadata": {
        "id": "oqJYF13LfS6Q"
      },
      "source": [
        "# Benchmark"
      ]
    },
    {
      "cell_type": "code",
      "metadata": {
        "id": "fHedt9dW2vTY"
      },
      "source": [
        "POPULATION = 30\n",
        "N_GENERATIONS = 100\n",
        "PROB_CROSS = 0.7\n",
        "PROB_MUT = 0.3"
      ],
      "execution_count": 63,
      "outputs": []
    },
    {
      "cell_type": "code",
      "metadata": {
        "colab": {
          "base_uri": "https://localhost:8080/"
        },
        "id": "HN8xllG3fZaH",
        "outputId": "5206cb37-5e93-4a81-8373-e81a2475cb0c"
      },
      "source": [
        "# Benchmark de una sola ejecucion\n",
        "solution, fitness = run_genetic_algorithm(POPULATION, N_GENERATIONS, PROB_CROSS, PROB_MUT)\n",
        "fitness"
      ],
      "execution_count": 65,
      "outputs": [
        {
          "output_type": "execute_result",
          "data": {
            "text/plain": [
              "39065.0"
            ]
          },
          "metadata": {},
          "execution_count": 65
        }
      ]
    },
    {
      "cell_type": "code",
      "metadata": {
        "id": "jsYW0S-O2iIe",
        "outputId": "83bfc94f-3b5f-4be6-8118-10a2de666081",
        "colab": {
          "base_uri": "https://localhost:8080/"
        }
      },
      "source": [
        "# Benchmark para varias ejecuciones\n",
        "QUANT_EJECUTIONS = 10\n",
        "fitness = []\n",
        "\n",
        "for i in range(QUANT_EJECUTIONS):\n",
        "  current_fitness = run_genetic_algorithm(POPULATION, N_GENERATIONS, PROB_CROSS, PROB_MUT)[1]\n",
        "  fitness.append(current_fitness)\n",
        "\n",
        "mean = np.mean(fitness)\n",
        "std_var = np.std(fitness)\n",
        "\n",
        "print(f'Promedio: { mean } - Desviacion estandar: { std_var }')"
      ],
      "execution_count": 70,
      "outputs": [
        {
          "output_type": "stream",
          "name": "stdout",
          "text": [
            "Promedio: 42561.3 - Desviacion estandar: 3640.9525415748008\n"
          ]
        }
      ]
    }
  ]
}