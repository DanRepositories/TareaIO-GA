{
  "nbformat": 4,
  "nbformat_minor": 0,
  "metadata": {
    "colab": {
      "name": "TareaIO.ipynb",
      "provenance": [],
      "authorship_tag": "ABX9TyNw1g9qhbz7bgsBAe9bJ7+l",
      "include_colab_link": true
    },
    "kernelspec": {
      "name": "python3",
      "display_name": "Python 3"
    },
    "language_info": {
      "name": "python"
    }
  },
  "cells": [
    {
      "cell_type": "markdown",
      "metadata": {
        "id": "view-in-github",
        "colab_type": "text"
      },
      "source": [
        "<a href=\"https://colab.research.google.com/github/DanRepositories/TareaIO-GA/blob/main/TareaIO.ipynb\" target=\"_parent\"><img src=\"https://colab.research.google.com/assets/colab-badge.svg\" alt=\"Open In Colab\"/></a>"
      ]
    },
    {
      "cell_type": "markdown",
      "metadata": {
        "id": "K0ZRXRuMd9mi"
      },
      "source": [
        "# Instancia del problema"
      ]
    },
    {
      "cell_type": "markdown",
      "metadata": {
        "id": "sDpcNNXCe_II"
      },
      "source": [
        "## Configuración de las variables del problema"
      ]
    },
    {
      "cell_type": "code",
      "metadata": {
        "id": "jJCMNuwXfDlD"
      },
      "source": [
        "import random\n",
        "import numpy as np\n",
        "\n",
        "distance_matrix = [[0, 2451,  713, 1018, 1631, 1374, 2408,  213, 2571,  875, 1420, 2145, 1972],\n",
        "     [2451,    0, 1745, 1524,  831, 1240,  959, 2596,  403, 1589, 1374,  357,  579],\n",
        "     [713, 1745,    0,  355,  920,  803, 1737,  851, 1858,  262,  940, 1453, 1260],\n",
        "     [1018, 1524,  355,    0,  700,  862, 1395, 1123, 1584,  466, 1056, 1280,  987],\n",
        "     [1631,  831,  920,  700,    0,  663, 1021, 1769,  949,  796,  879,  586,  371],\n",
        "     [1374, 1240,  803,  862,  663,    0, 1681, 1551, 1765,  547,  225,  887,  999],\n",
        "     [2408,  959, 1737, 1395, 1021, 1681,    0, 2493,  678, 1724, 1891, 1114,  701],\n",
        "     [213, 2596,  851, 1123, 1769, 1551, 2493,    0, 2699, 1038, 1605, 2300, 2099],\n",
        "     [2571,  403, 1858, 1584,  949, 1765,  678, 2699,    0, 1744, 1645,  653,  600],\n",
        "     [875, 1589,  262,  466,  796,  547, 1724, 1038, 1744,    0,  679, 1272, 1162],\n",
        "     [1420, 1374,  940, 1056,  879,  225, 1891, 1605, 1645,  679,    0, 1017, 1200],\n",
        "     [2145,  357, 1453, 1280,  586,  887, 1114, 2300,  653, 1272, 1017,    0,  504],\n",
        "     [1972,  579, 1260,  987,  371,  999,  701, 2099,  600, 1162, 1200,  504,    0]]\n",
        "n_genes = 13"
      ],
      "execution_count": 20,
      "outputs": []
    },
    {
      "cell_type": "code",
      "metadata": {
        "id": "5F7dCFScgkDe"
      },
      "source": [
        ""
      ],
      "execution_count": null,
      "outputs": []
    },
    {
      "cell_type": "markdown",
      "metadata": {
        "id": "T1oeTaZHeCoG"
      },
      "source": [
        "## Funcion Objetivo"
      ]
    },
    {
      "cell_type": "code",
      "metadata": {
        "id": "6zS5zOZceBsM"
      },
      "source": [
        "def calc_fitness(individual):\n",
        "  global distance_matrix\n",
        "  distance = distance_matrix[individual[0]][individual[-1]]\n",
        "\n",
        "  for i in range(1, len(individual)):\n",
        "    distance += distance_matrix[individual[i - 1]][individual[i]]\n",
        "\n",
        "  return distance"
      ],
      "execution_count": 4,
      "outputs": []
    },
    {
      "cell_type": "markdown",
      "metadata": {
        "id": "5CMTN0tpeYKn"
      },
      "source": [
        "## Funciones auxiliares"
      ]
    },
    {
      "cell_type": "code",
      "metadata": {
        "id": "FwZbKhg2eoc4"
      },
      "source": [
        "def create_individual(n_genes):\n",
        "  return random.sample(range(n_genes), n_genes)"
      ],
      "execution_count": 5,
      "outputs": []
    },
    {
      "cell_type": "code",
      "metadata": {
        "id": "b-7zbfClepHV"
      },
      "source": [
        "def create_population(n_genes, cant_individuals):\n",
        "  return np.array([create_individual(n_genes) for i in range(cant_individuals)])"
      ],
      "execution_count": 6,
      "outputs": []
    },
    {
      "cell_type": "code",
      "metadata": {
        "id": "Q4dHcKVieI4a"
      },
      "source": [
        "def calc_fitness_population(population):\n",
        "  fitness = [calc_fitness(individual) for individual in population]\n",
        "  return fitness"
      ],
      "execution_count": 7,
      "outputs": []
    },
    {
      "cell_type": "code",
      "metadata": {
        "id": "WbTIybs2eagS"
      },
      "source": [
        "def get_best(population, fitness):\n",
        "  best = population[0]\n",
        "  F_min = fitness[0]\n",
        "  length = len(population)\n",
        "\n",
        "  for index in range(1, length):\n",
        "    \n",
        "    if fitness[index] < F_min:\n",
        "      best = population[index]\n",
        "      F_min = fitness[index]\n",
        "\n",
        "  return best, F_min"
      ],
      "execution_count": 8,
      "outputs": []
    },
    {
      "cell_type": "markdown",
      "metadata": {
        "id": "wh2E0KDNc7F6"
      },
      "source": [
        "# Algoritmo Genético"
      ]
    },
    {
      "cell_type": "markdown",
      "metadata": {
        "id": "zK3X2RGMc-ej"
      },
      "source": [
        "## Definición de las operaciones geneticas\n"
      ]
    },
    {
      "cell_type": "markdown",
      "metadata": {
        "id": "3h84MdhndGEp"
      },
      "source": [
        "### Operador de selección"
      ]
    },
    {
      "cell_type": "code",
      "metadata": {
        "id": "fh7a1ttzdY90"
      },
      "source": [
        "def get_min_index(fitness, index_participants):\n",
        "  index_min = index_participants[0]\n",
        "  min = fitness[index_participants[0]]\n",
        "\n",
        "  for index in index_participants:\n",
        "    if fitness[index] < min:\n",
        "      index_min = index\n",
        "      min = fitness[index]\n",
        "\n",
        "  return index_min"
      ],
      "execution_count": 9,
      "outputs": []
    },
    {
      "cell_type": "code",
      "metadata": {
        "id": "6NfKz7lKctmj"
      },
      "source": [
        "def select(population, fitness, k, n_individuals):\n",
        "  winners = []\n",
        "\n",
        "  for i in range(n_individuals):\n",
        "    index_participants = random.sample(range(n_individuals), k)\n",
        "    \n",
        "    winner_index = get_min_index(fitness, index_participants)\n",
        "    winners.append(population[winner_index])\n",
        "\n",
        "  return winners"
      ],
      "execution_count": 10,
      "outputs": []
    },
    {
      "cell_type": "markdown",
      "metadata": {
        "id": "UiIzomtDdIat"
      },
      "source": [
        "### Operador de cruce"
      ]
    },
    {
      "cell_type": "code",
      "metadata": {
        "id": "AuabSkAvdKLU"
      },
      "source": [
        "def copy_genes(individual_origin, individual_destiny, initial, quantity):\n",
        "  index = initial\n",
        "  while quantity > 0:\n",
        "    individual_destiny[index] = individual_origin[index]\n",
        "\n",
        "    index = (index + 1) % n_genes\n",
        "    quantity -= 1\n",
        "\n",
        "  return individual_destiny"
      ],
      "execution_count": 11,
      "outputs": []
    },
    {
      "cell_type": "code",
      "metadata": {
        "id": "cFfu5IDXdfrP"
      },
      "source": [
        "def make_childrens(father_1, father_2):\n",
        "  # Se los hijos sin genes todavia\n",
        "  children_1 = [-1] * n_genes\n",
        "  children_2 = [-1] * n_genes\n",
        "\n",
        "  # Cantidad de genes que van a ser heredados a los hijos\n",
        "  cant_genes_inherited = 4\n",
        "\n",
        "  # Se selecciona un indice inicial al azar, del cual se empezara a copiar los genes\n",
        "  initial_index = random.randint(0, n_genes - 1)\n",
        "\n",
        "  # Se copian los genes heredados\n",
        "  children_1 = copy_genes(father_1, children_1, initial_index, cant_genes_inherited)\n",
        "  children_2 = copy_genes(father_2, children_2, initial_index, cant_genes_inherited)\n",
        "\n",
        "  # Se inicializan los indices\n",
        "  index = (initial_index + cant_genes_inherited) % n_genes\n",
        "  index_children_1 = index\n",
        "  index_children_2 = index\n",
        "\n",
        "  # Mientras no se de la vuelta completa a los padres, se van copiando genes\n",
        "  while True:\n",
        "\n",
        "    # Si el gen actual del padre no esta en el hijo, se copia\n",
        "    if father_1[index] not in children_2:\n",
        "      children_2[index_children_2] = father_1[index]\n",
        "      index_children_2 = (index_children_2 + 1) % n_genes\n",
        "\n",
        "    if father_2[index] not in children_1:\n",
        "      children_1[index_children_1] = father_2[index]\n",
        "      index_children_1 = (index_children_1 + 1) % n_genes\n",
        "\n",
        "    index = (index + 1) % n_genes\n",
        "\n",
        "    if index == ((initial_index + cant_genes_inherited) % n_genes):\n",
        "      break\n",
        "\n",
        "  return children_1, children_2"
      ],
      "execution_count": 12,
      "outputs": []
    },
    {
      "cell_type": "code",
      "metadata": {
        "id": "ReI4L2x5dqCi"
      },
      "source": [
        "def crossing(population, n_individuals, p_cross):\n",
        "  for i in range(1, n_individuals, 2):\n",
        "    rand = random.random()\n",
        "\n",
        "    if rand < p_cross:\n",
        "      population[i - 1], population[i] = make_childrens(population[i - 1], population[i])\n",
        "\n",
        "  return population"
      ],
      "execution_count": 13,
      "outputs": []
    },
    {
      "cell_type": "markdown",
      "metadata": {
        "id": "Ge8TXd0WdKoe"
      },
      "source": [
        "### Operador de mutación"
      ]
    },
    {
      "cell_type": "code",
      "metadata": {
        "id": "iDWNXdgNdPhz"
      },
      "source": [
        "def make_mutation(individual):\n",
        "  indexes = random.sample(range(n_genes), 2)\n",
        "  \n",
        "  individual[indexes[0]], individual[indexes[1]] = individual[indexes[1]], individual[indexes[0]]\n",
        "\n",
        "  return individual"
      ],
      "execution_count": 14,
      "outputs": []
    },
    {
      "cell_type": "code",
      "metadata": {
        "id": "39Rqw59ydsvf"
      },
      "source": [
        "def mutate(population, n_individuals, p_mutate):\n",
        "  for i in range(n_individuals):\n",
        "    rand = random.random()\n",
        "\n",
        "    if rand < p_mutate:\n",
        "      population[i] = make_mutation(population[i])\n",
        "\n",
        "  return population"
      ],
      "execution_count": 15,
      "outputs": []
    },
    {
      "cell_type": "markdown",
      "metadata": {
        "id": "Aay2j1bedQ5S"
      },
      "source": [
        "## Definición del algoritmo\n"
      ]
    },
    {
      "cell_type": "code",
      "metadata": {
        "id": "1k7WfEqmdVpV"
      },
      "source": [
        "def run_genetic_algorithm(n_individuals, n_generations, p_cross, p_mutate):\n",
        "  population = create_population(n_genes, n_individuals)\n",
        "  fitness = calc_fitness_population(population)\n",
        "\n",
        "  best, min_fitness = get_best(population, fitness)\n",
        "\n",
        "  for i in range(n_generations):\n",
        "    population = select(population, fitness, 3, n_individuals)\n",
        "    \n",
        "    population = crossing(population, n_individuals, p_cross)\n",
        "    \n",
        "    population = mutate(population, n_individuals, p_mutate)\n",
        "\n",
        "    fitness = calc_fitness_population(population)\n",
        "\n",
        "    current_best, current_min_fitness = get_best(population, fitness)\n",
        "\n",
        "    if current_min_fitness < min_fitness:\n",
        "      best = current_best\n",
        "      min_fitness = current_min_fitness\n",
        "\n",
        "  return best, min_fitness"
      ],
      "execution_count": 16,
      "outputs": []
    },
    {
      "cell_type": "markdown",
      "metadata": {
        "id": "oqJYF13LfS6Q"
      },
      "source": [
        "# Benchmark"
      ]
    },
    {
      "cell_type": "code",
      "metadata": {
        "colab": {
          "base_uri": "https://localhost:8080/"
        },
        "id": "HN8xllG3fZaH",
        "outputId": "069ee10e-263c-42b3-d20b-01c75c242193"
      },
      "source": [
        "run_genetic_algorithm(40, 60, 0.7, 0.3)"
      ],
      "execution_count": 24,
      "outputs": [
        {
          "output_type": "execute_result",
          "data": {
            "text/plain": [
              "([11, 1, 8, 6, 12, 4, 3, 2, 7, 0, 9, 5, 10], 7293)"
            ]
          },
          "metadata": {},
          "execution_count": 24
        }
      ]
    }
  ]
}